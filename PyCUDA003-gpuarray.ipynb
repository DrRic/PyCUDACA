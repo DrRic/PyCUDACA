{
 "cells": [
  {
   "cell_type": "code",
   "execution_count": 1,
   "metadata": {},
   "outputs": [],
   "source": [
    "import pycuda.autoinit\n",
    "from pycuda import gpuarray\n",
    "import numpy as np\n",
    "from time import time"
   ]
  },
  {
   "cell_type": "code",
   "execution_count": 2,
   "metadata": {},
   "outputs": [],
   "source": [
    "def big_calc(host_data):\n",
    "    t1 = time()\n",
    "    host_x2 = host_data * np.float32(2)\n",
    "    t2 = time()\n",
    "    print(t2-t1)\n",
    "    t1 = time()\n",
    "    dev_data = gpuarray.to_gpu(host_data)\n",
    "    dev_x2 = dev_data * np.float32(2)\n",
    "    from_dev = dev_x2.get()\n",
    "    t2 = time()\n",
    "    print(t2-t1)\n",
    "    "
   ]
  },
  {
   "cell_type": "code",
   "execution_count": 3,
   "metadata": {},
   "outputs": [],
   "source": [
    "host_data = np.float32(np.random.random(100000000))\n",
    "    "
   ]
  },
  {
   "cell_type": "code",
   "execution_count": 4,
   "metadata": {},
   "outputs": [
    {
     "name": "stdout",
     "output_type": "stream",
     "text": [
      "0.34236764907836914\n",
      "5.000601291656494\n"
     ]
    }
   ],
   "source": [
    "big_calc(host_data)"
   ]
  },
  {
   "cell_type": "code",
   "execution_count": 22,
   "metadata": {},
   "outputs": [
    {
     "name": "stdout",
     "output_type": "stream",
     "text": [
      "0.34967947006225586\n",
      "1.167541265487671\n",
      "0.3506460189819336\n",
      "1.053968906402588\n",
      "0.34945106506347656\n",
      "1.0681991577148438\n",
      "0.3507993221282959\n",
      "1.057070016860962\n",
      "0.3748347759246826\n",
      "1.0768928527832031\n"
     ]
    }
   ],
   "source": [
    "for _ in range(5):\n",
    "    big_calc(host_data)"
   ]
  },
  {
   "cell_type": "code",
   "execution_count": null,
   "metadata": {},
   "outputs": [],
   "source": []
  }
 ],
 "metadata": {
  "kernelspec": {
   "display_name": "Python 3",
   "language": "python",
   "name": "python3"
  },
  "language_info": {
   "codemirror_mode": {
    "name": "ipython",
    "version": 3
   },
   "file_extension": ".py",
   "mimetype": "text/x-python",
   "name": "python",
   "nbconvert_exporter": "python",
   "pygments_lexer": "ipython3",
   "version": "3.6.8"
  }
 },
 "nbformat": 4,
 "nbformat_minor": 2
}
