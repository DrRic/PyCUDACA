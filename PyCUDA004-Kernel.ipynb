{
 "cells": [
  {
   "cell_type": "raw",
   "metadata": {},
   "source": [
    "export PATH=/usr/local/cuda/bin${PATH:+:${PATH}}$\n",
    "export LD_LIBRARY_PATH=/usr/local/cuda/lib64${LD_LIBRARY_PATH:+:${LD_LIBRARY_PATH}}\n",
    "\n"
   ]
  },
  {
   "cell_type": "code",
   "execution_count": 1,
   "metadata": {},
   "outputs": [],
   "source": [
    "import pycuda.autoinit\n",
    "from pycuda import gpuarray\n",
    "import numpy as np\n",
    "from time import time\n",
    "from pycuda.elementwise import ElementwiseKernel"
   ]
  },
  {
   "cell_type": "code",
   "execution_count": 2,
   "metadata": {},
   "outputs": [],
   "source": [
    "host_data = np.float32(np.random.random(50000000))\n",
    "    "
   ]
  },
  {
   "cell_type": "code",
   "execution_count": 3,
   "metadata": {},
   "outputs": [],
   "source": [
    "gpu_ker = ElementwiseKernel(\n",
    "\"float *in, float *out\",\n",
    "\"out[i] = 2*in[i]\",\n",
    "\"gpu_ker\"\n",
    ")"
   ]
  },
  {
   "cell_type": "code",
   "execution_count": 8,
   "metadata": {},
   "outputs": [],
   "source": [
    "def big_calc_ker(host_data):\n",
    "    t1 = time()\n",
    "    for _ in range(10):\n",
    "        host_x2 = host_data * np.float32(2)\n",
    "    t2 = time()\n",
    "    print(t2-t1)\n",
    "    dev_data = gpuarray.to_gpu(host_data)\n",
    "    dev_data_X2 = gpuarray.empty_like(dev_data)\n",
    "    gpu_ker(dev_data,dev_data_X2)\n",
    "    t1 = time()\n",
    "    for _ in range(10):\n",
    "        gpu_ker(dev_data,dev_data_X2)\n",
    "    t2 = time()\n",
    "    print(t2-t1)\n",
    "    from_dev = dev_data_X2.get()\n",
    "    #gpuarray.free()\n",
    "    \n",
    "    "
   ]
  },
  {
   "cell_type": "code",
   "execution_count": 9,
   "metadata": {},
   "outputs": [
    {
     "name": "stdout",
     "output_type": "stream",
     "text": [
      "2.9871556758880615\n",
      "0.0011637210845947266\n",
      "1.944843053817749\n",
      "0.0009222030639648438\n",
      "1.8196494579315186\n",
      "0.0009410381317138672\n",
      "1.8179759979248047\n",
      "0.0010378360748291016\n",
      "1.6790242195129395\n",
      "0.0010077953338623047\n",
      "1.6790523529052734\n",
      "0.006400585174560547\n",
      "1.684976577758789\n",
      "0.0010199546813964844\n",
      "1.7013928890228271\n",
      "0.0033884048461914062\n",
      "1.7300240993499756\n",
      "0.0010228157043457031\n",
      "1.760786771774292\n",
      "0.0011110305786132812\n"
     ]
    }
   ],
   "source": [
    "for _ in range(10):\n",
    "    big_calc_ker(host_data)"
   ]
  },
  {
   "cell_type": "code",
   "execution_count": null,
   "metadata": {},
   "outputs": [],
   "source": []
  }
 ],
 "metadata": {
  "kernelspec": {
   "display_name": "Python 3",
   "language": "python",
   "name": "python3"
  },
  "language_info": {
   "codemirror_mode": {
    "name": "ipython",
    "version": 3
   },
   "file_extension": ".py",
   "mimetype": "text/x-python",
   "name": "python",
   "nbconvert_exporter": "python",
   "pygments_lexer": "ipython3",
   "version": "3.6.8"
  }
 },
 "nbformat": 4,
 "nbformat_minor": 2
}
