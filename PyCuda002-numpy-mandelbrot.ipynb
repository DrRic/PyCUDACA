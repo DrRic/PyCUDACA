{
 "cells": [
  {
   "cell_type": "code",
   "execution_count": 2,
   "metadata": {},
   "outputs": [],
   "source": [
    "import numpy as np\n",
    "from time import time\n",
    "import matplotlib.pyplot as plt"
   ]
  },
  {
   "cell_type": "code",
   "execution_count": 13,
   "metadata": {},
   "outputs": [],
   "source": [
    "def mandlebrot(width,height,r_low,r_high,i_low,i_high,max_iter):\n",
    "    r_vals = np.linspace(r_low,r_high,width)\n",
    "    i_vals = np.linspace(i_low,i_high,height)\n",
    "    m_graph = np.ones((height,width),dtype=np.float32)\n",
    "    for x in range(width):\n",
    "        for y in range(height):\n",
    "            c= np.complex64(r_vals[x]+i_vals[y]* 1j )\n",
    "            z= np.complex64(0)\n",
    "            for i in range(max_iter):\n",
    "                z=z**2 +c\n",
    "                if(np.abs(z) >2):\n",
    "                    m_graph[x,y] = 0\n",
    "                    break\n",
    "    return m_graph"
   ]
  },
  {
   "cell_type": "code",
   "execution_count": 15,
   "metadata": {},
   "outputs": [
    {
     "data": {
      "image/png": "[encoded data removed]",
      "text/plain": [
       "<Figure size 432x288 with 1 Axes>"
      ]
     },
     "metadata": {
      "needs_background": "light"
     },
     "output_type": "display_data"
    },
    {
     "name": "stdout",
     "output_type": "stream",
     "text": [
      "128.10829615592957 0.5442554950714111\n"
     ]
    }
   ],
   "source": [
    "t1 = time()\n",
    "m = mandlebrot(512,512,-2,2,-2,2,256)\n",
    "t2 = time()\n",
    "m_time = t2-t1\n",
    "t1 = time()\n",
    "plt.imshow(m,extent=(-2,2,-2,2))\n",
    "plt.show()\n",
    "t2 = time()\n",
    "p_time= t2-t1\n",
    "print(m_time,p_time)"
   ]
  },
  {
   "cell_type": "code",
   "execution_count": null,
   "metadata": {},
   "outputs": [],
   "source": []
  }
 ],
 "metadata": {
  "kernelspec": {
   "display_name": "Python 3",
   "language": "python",
   "name": "python3"
  },
  "language_info": {
   "codemirror_mode": {
    "name": "ipython",
    "version": 3
   },
   "file_extension": ".py",
   "mimetype": "text/x-python",
   "name": "python",
   "nbconvert_exporter": "python",
   "pygments_lexer": "ipython3",
   "version": "3.6.8"
  }
 },
 "nbformat": 4,
 "nbformat_minor": 2
}
